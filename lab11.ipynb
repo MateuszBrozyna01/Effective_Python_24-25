{
 "cells": [
  {
   "cell_type": "markdown",
   "metadata": {},
   "source": [
    "## Numpy"
   ]
  },
  {
   "cell_type": "code",
   "execution_count": 1,
   "metadata": {
    "collapsed": true
   },
   "outputs": [],
   "source": [
    "import numpy as np"
   ]
  },
  {
   "cell_type": "markdown",
   "metadata": {},
   "source": [
    "### Zadanie 1.\n",
    "\n",
    "Stwórz losową tablicę 10,000 liczb, następnie do każdego elementu dodaj 1. Następnie napisz dokładnie tę samą funkcję używając `numpy` i jego tablic. Porównaj czas działania swoich rozwiązań."
   ]
  },
  {
   "cell_type": "code",
   "execution_count": 2,
   "metadata": {
    "collapsed": true
   },
   "outputs": [
    {
     "name": "stdout",
     "output_type": "stream",
     "text": [
      "Function tablica took: 0.00114 seconds\n",
      "None\n",
      "Function tablica_numpy took: 0.00223 seconds\n",
      "None\n"
     ]
    }
   ],
   "source": [
    "import random\n",
    "import timeit\n",
    "import time\n",
    "\n",
    "def timeit(func):\n",
    "    def wrapper(*args, **kwargs):\n",
    "        t1 = time.time()\n",
    "        func(*args, **kwargs)\n",
    "        t2 = time.time() - t1\n",
    "        print(f\"Function {func.__name__} took: {t2:.5f} seconds\")\n",
    "    return wrapper\n",
    "\n",
    "\n",
    "@timeit\n",
    "def tablica(n):\n",
    "    tab = [random.random() for i in range(n)]\n",
    "    return [i+1 for i in range(len(tab))]\n",
    "\n",
    "@timeit\n",
    "def tablica_numpy(n):\n",
    "    return np.random.random(n) + 1\n",
    "\n",
    "\n",
    "print(tablica(10000))\n",
    "print(tablica_numpy(10000))"
   ]
  },
  {
   "cell_type": "markdown",
   "metadata": {},
   "source": [
    "### Zadanie 2.\n",
    "\n",
    "Napisz funkcje obliczajaca $\\sin(x) + \\cos(x)$ dla kazdego elementu tablicy 10,000 losowych liczb używając pętli oraz używając numpy, porownaj ich szybkość podobnie jak w poprzednim zadaniu."
   ]
  },
  {
   "cell_type": "code",
   "execution_count": 3,
   "metadata": {
    "collapsed": true
   },
   "outputs": [
    {
     "name": "stdout",
     "output_type": "stream",
     "text": [
      "Czas wykonania suma_sin_cos (lista): 0.0423 sekund\n",
      "Czas wykonania suma_sin_cos_np (numpy): 0.0028 sekund\n"
     ]
    }
   ],
   "source": [
    "from math import sin, cos\n",
    "import timeit\n",
    "\n",
    "def tablica(size):\n",
    "    return [x * 0.1 for x in range(size)]\n",
    "\n",
    "def tablica_numpy(size):\n",
    "    return np.arange(size) * 0.1\n",
    "\n",
    "def suma_sin_cos(tab):\n",
    "    return [sin(x) + cos(x) for x in tab]\n",
    "\n",
    "def suma_sin_cos_np(tab):\n",
    "    return np.sin(tab) + np.cos(tab)\n",
    "\n",
    "lista = tablica(10000)\n",
    "tab_np = tablica_numpy(10000)\n",
    "czas_list = timeit.timeit(lambda: suma_sin_cos(lista), number=10)\n",
    "czas_np = timeit.timeit(lambda: suma_sin_cos_np(tab_np), number=10)\n",
    "print(f\"Czas wykonania suma_sin_cos (lista): {czas_list:.4f} sekund\")\n",
    "print(f\"Czas wykonania suma_sin_cos_np (numpy): {czas_np:.4f} sekund\")"
   ]
  },
  {
   "cell_type": "markdown",
   "metadata": {},
   "source": [
    "### Zadanie 3.\n",
    "\n",
    "Napisz wydajniejszą forme następujących funkcji. Dopisz do każdej test potwierdzający szybkość zaproponowanego rozwiązania."
   ]
  },
  {
   "cell_type": "code",
   "execution_count": 4,
   "metadata": {
    "collapsed": true
   },
   "outputs": [],
   "source": [
    "def cube_sum(x):\n",
    "    \"\"\"Zwraca sume szescianow elementow\"\"\"\n",
    "    result = 0\n",
    "    for i in range(len(x)):\n",
    "        result += x[i] ** 3\n",
    "    return result\n",
    "\n",
    "def almost_variance(x):\n",
    "    \"\"\"Oblicza 1/n * SUM (x_i - mean(x))^4\"\"\"\n",
    "    m = sum(x) / len(x)\n",
    "    result = 0\n",
    "    for i in range(len(x)):\n",
    "        result += (x[i] - m) ** 4\n",
    "    result /= len(x)\n",
    "    return result"
   ]
  },
  {
   "cell_type": "code",
   "execution_count": 5,
   "metadata": {},
   "outputs": [],
   "source": [
    "def cube_sum_numpy(x):\n",
    "    return np.sum(np.power(np.array(x), 3))\n",
    "\n",
    "def almost_variance_numpy(x):\n",
    "    return np.sum(np.power(np.array(x) - np.mean(x), 4)) / np.array(x).size"
   ]
  },
  {
   "cell_type": "code",
   "execution_count": 6,
   "metadata": {},
   "outputs": [
    {
     "name": "stdout",
     "output_type": "stream",
     "text": [
      "True\n",
      "True\n"
     ]
    }
   ],
   "source": [
    "print(almost_variance([1,2,3,4]) == almost_variance_numpy([1,2,3,4]))\n",
    "print(cube_sum_numpy([1, 2 , 3, 4, -5]) == cube_sum([1, 2, 3, 4, -5]))\n"
   ]
  },
  {
   "cell_type": "markdown",
   "metadata": {},
   "source": [
    "### Zadanie 4.\n",
    "\n",
    "Wykorzystujac `broadcasting` (patrz na rysunek poniżej) stwórz tabliczkę mnożenia tzn. tablice $A$ taka, ze $$A_{ij} = i \\cdot j\\;\\;\\;\\;\\; \\forall i,j \\in \\{1,\\dots,10\\}$$\n",
    "\n",
    "Czy potrafisz wykonać to jednym poleceniem, nie używajac przy tym petli/comprehensions?"
   ]
  },
  {
   "cell_type": "markdown",
   "metadata": {},
   "source": [
    "<img src=\"http://www.astroml.org/_images/fig_broadcast_visual_1.png\">"
   ]
  },
  {
   "cell_type": "code",
   "execution_count": 7,
   "metadata": {
    "collapsed": true
   },
   "outputs": [
    {
     "data": {
      "text/plain": [
       "array([[  1,   2,   3,   4,   5,   6,   7,   8,   9,  10],\n",
       "       [  2,   4,   6,   8,  10,  12,  14,  16,  18,  20],\n",
       "       [  3,   6,   9,  12,  15,  18,  21,  24,  27,  30],\n",
       "       [  4,   8,  12,  16,  20,  24,  28,  32,  36,  40],\n",
       "       [  5,  10,  15,  20,  25,  30,  35,  40,  45,  50],\n",
       "       [  6,  12,  18,  24,  30,  36,  42,  48,  54,  60],\n",
       "       [  7,  14,  21,  28,  35,  42,  49,  56,  63,  70],\n",
       "       [  8,  16,  24,  32,  40,  48,  56,  64,  72,  80],\n",
       "       [  9,  18,  27,  36,  45,  54,  63,  72,  81,  90],\n",
       "       [ 10,  20,  30,  40,  50,  60,  70,  80,  90, 100]])"
      ]
     },
     "execution_count": 7,
     "metadata": {},
     "output_type": "execute_result"
    }
   ],
   "source": [
    "np.arange(1, 11).reshape((10, 1)) * np.arange(1, 11)"
   ]
  },
  {
   "cell_type": "markdown",
   "metadata": {},
   "source": [
    "### Zad 5.\n",
    "\n",
    "Wygeneruj losową tablice `10 x 5`, która będzie reprezentować `10` punktów w `5` wymiarowej przestrzeni. Napisz funkcje, która policzy odleglość euklidesową pomiędzy każdą parą punktów, czy potrafisz zrobić to **bez użycia żadnych pętli/comprehensions**? \n",
    "\n",
    "Przypomnienie, dla dwóch wektorów: $x$ i $y$ $$d_{e}(x,y) = \\| x - y \\|^2_2 = \\sum_{i=1}^d (x_i - y_i)^2 $$"
   ]
  },
  {
   "cell_type": "code",
   "execution_count": 8,
   "metadata": {
    "collapsed": true
   },
   "outputs": [
    {
     "data": {
      "text/plain": [
       "7.055675627764789"
      ]
     },
     "execution_count": 8,
     "metadata": {},
     "output_type": "execute_result"
    }
   ],
   "source": [
    "def d_e(a1, a2):\n",
    "    return np.sum(np.power(np.subtract(a1,a2),2))\n",
    "\n",
    "a1 = np.random.random((10,5))\n",
    "a2 = np.random.random((10,5))\n",
    "d_e(a1,a2)"
   ]
  },
  {
   "cell_type": "markdown",
   "metadata": {},
   "source": [
    "### Zad 6.\n",
    "\n",
    "Napisz funkcje do \"wybielania\" zbioru punktow, tj. aplikowania następującej transformacji (ponownie, zrób to bez użycia pętli etc.)\n",
    "$$\n",
    "\\mathrm{white}(X)_{ij} = \\frac{X_{ij} - \\mu_j}{\\sigma_j}\n",
    "$$\n",
    "gdzie $\\mu_j$ to srednia po $j$ej kolumnie, a $\\sigma_j$ to odchylenie standardowe po tej kolumnie, np.\n",
    "\n",
    "$$\n",
    "\\mathrm{white}\\left ( \\left [ \\begin{matrix} \n",
    "0& 1\\\\\n",
    "2& 3\\\\\n",
    "4& 5\\\\\n",
    "6& 7\\\\\n",
    "8& 9\n",
    "\\end{matrix} \\right ] \\right ) = \n",
    "\\left [ \\begin{matrix} \n",
    "-1.41421356& -1.41421356\\\\\n",
    "-0.70710678& -0.70710678\\\\\n",
    "0.        &  0.        \\\\\n",
    "0.70710678&  0.70710678\\\\\n",
    "1.41421356&  1.41421356\n",
    "\\end{matrix} \\right ]\n",
    "$$\n",
    "\n",
    "W szczególności średnia po poszczególnych kolumnach nowej macierzy powinna wynosić `0` a odchylenie standardowe `1`."
   ]
  },
  {
   "cell_type": "code",
   "execution_count": 9,
   "metadata": {
    "collapsed": true
   },
   "outputs": [
    {
     "data": {
      "text/plain": [
       "array([[-1.41421356, -1.41421356],\n",
       "       [-0.70710678, -0.70710678],\n",
       "       [ 0.        ,  0.        ],\n",
       "       [ 0.70710678,  0.70710678],\n",
       "       [ 1.41421356,  1.41421356]])"
      ]
     },
     "execution_count": 9,
     "metadata": {},
     "output_type": "execute_result"
    }
   ],
   "source": [
    "def white(arr):\n",
    "    return (arr.T - np.mean(arr,axis=1))/np.std(arr, axis=1)\n",
    "\n",
    "X = np.array([[0,2,4,6,8], [1,3,5,7,9]])\n",
    "white(X)"
   ]
  },
  {
   "cell_type": "markdown",
   "metadata": {},
   "source": [
    "### Zad 7.\n",
    "\n",
    "Majac dana tablice dowolnie wymiarowa (dla uproszczenia mozesz przyjac ze jedno lub dwu) oraz liczbe `x` znajdz najblizsza wartosc `x` w `A`, tzn. \n",
    "\n",
    "$$\n",
    "\\mathrm{closest}(x, A) = \\arg\\min_{a\\in A}| x - a| \n",
    "$$\n",
    "\n",
    "np. \n",
    "\n",
    "$$\n",
    "\\mathrm{closest}(1.5, [1, -4, 3]) = 1\n",
    "$$\n",
    "\n",
    "Ponownie, czy potrafisz zrobic to bez petli, etc.?\n"
   ]
  },
  {
   "cell_type": "code",
   "execution_count": 10,
   "metadata": {
    "collapsed": true
   },
   "outputs": [
    {
     "name": "stdout",
     "output_type": "stream",
     "text": [
      "1\n",
      "8\n"
     ]
    }
   ],
   "source": [
    "def closest(arr,x):\n",
    "    return arr.flatten()[np.argmin(np.abs(x - arr).flatten())]\n",
    "\n",
    "print(closest(np.array([1,-4,3]), 1.5))\n",
    "print(closest(np.arange(27).reshape((3,3,3)), 7.54))"
   ]
  },
  {
   "cell_type": "markdown",
   "metadata": {},
   "source": [
    "### Zad 8.\n",
    "\n",
    "Zaimplementuj proste liczenie wartosci wielomianu o zadanych wspolczynnikach (analogie `np.poly1d`), czyli funkcje\n",
    "\n",
    "$$\n",
    "\\mathrm{poly}(x, a) = a_0 + a_1 x + a_2 x^2 + \\dots + a_k x^k = \\sum_{i=1}^k a_i x^i\n",
    "$$\n",
    "\n",
    "Czy potrafisz zrobic to jednolinijkowo bez uzycia petli, etc. (oraz oczywiście `np.poly1d`). \n",
    "Może Ci się przydać metoda `cumprod`."
   ]
  },
  {
   "cell_type": "code",
   "execution_count": 11,
   "metadata": {},
   "outputs": [
    {
     "name": "stdout",
     "output_type": "stream",
     "text": [
      "15\n",
      "129\n",
      "3\n"
     ]
    }
   ],
   "source": [
    "def poly(arr, x):\n",
    "    l1 = np.cumprod(np.concatenate((np.array([1]), np.tile(np.array([x]), arr.size-1))))\n",
    "    return np.sum(l1 * arr)\n",
    "\n",
    "arr = np.array([1,2,3,4,5])\n",
    "print(poly(arr, 1))\n",
    "print(poly(arr, 2))\n",
    "print(poly(arr, -1))"
   ]
  },
  {
   "cell_type": "markdown",
   "metadata": {},
   "source": [
    "## Obrazki"
   ]
  },
  {
   "cell_type": "markdown",
   "metadata": {},
   "source": [
    "Do wyświetlania obrazków w notebooku potrzebny będzie `matplotlib`. W PyCharmie można użyć `imshow` z biblioteki `scipy`."
   ]
  },
  {
   "cell_type": "code",
   "execution_count": 12,
   "metadata": {},
   "outputs": [],
   "source": [
    "%matplotlib inline\n",
    "import matplotlib.pyplot as plt\n",
    "import matplotlib.image as mpimg"
   ]
  },
  {
   "cell_type": "code",
   "execution_count": 22,
   "metadata": {},
   "outputs": [
    {
     "data": {
      "image/png": "[encoded data removed]",
      "text/plain": [
       "<Figure size 432x288 with 1 Axes>"
      ]
     },
     "metadata": {
      "needs_background": "light"
     },
     "output_type": "display_data"
    }
   ],
   "source": [
    "img = mpimg.imread('images/pie.png')\n",
    "plt.imshow(img);"
   ]
  },
  {
   "cell_type": "markdown",
   "metadata": {},
   "source": [
    "### Zad 9.\n",
    "\n",
    "Napisz funckje do przetwarzania obrazu do skali szarości wg wzoru:\n",
    "\n",
    "$$ 0.2126 \\times R + 0.7152 \\times  G + 0.0722 \\times B $$"
   ]
  },
  {
   "cell_type": "code",
   "execution_count": 23,
   "metadata": {
    "collapsed": true
   },
   "outputs": [
    {
     "data": {
      "image/png": "[encoded data removed]",
      "text/plain": [
       "<Figure size 432x288 with 1 Axes>"
      ]
     },
     "metadata": {
      "needs_background": "light"
     },
     "output_type": "display_data"
    }
   ],
   "source": [
    "def rgb_to_grayscale(image):\n",
    "    coefficients = np.array([0.2126, 0.7152, 0.0722])\n",
    "    gray_image = np.dot(image[..., :3], coefficients)\n",
    "    gray_image = np.clip(gray_image, 0, 255)\n",
    "    return plt.imshow(gray_image)\n",
    "\n",
    "rgb_to_grayscale(img);"
   ]
  },
  {
   "cell_type": "markdown",
   "metadata": {},
   "source": [
    "### Zadanie 10.\n",
    "\n",
    "Wyłącznie za pomocą metod numpy napisz kod do interpolacji liniowej pomiędzy parą punktów (dowolnej wymiarowości) wg wzoru:\n",
    "\n",
    "$$ x_i = \\lambda x_1 + (1 - \\lambda) x_2$$\n",
    "\n",
    "Kod powinien od razu generować interpolacje dla wielu wartości $\\lambda$, np dla 10 różnych $\\lambda \\in \\{0, 0.1, 0.2, \\dots, 1\\}$"
   ]
  },
  {
   "cell_type": "code",
   "execution_count": 24,
   "metadata": {
    "collapsed": true
   },
   "outputs": [
    {
     "data": {
      "text/plain": [
       "array([[1. , 4. , 6. , 4. ],\n",
       "       [1. , 3.8, 5.7, 4.1],\n",
       "       [1. , 3.6, 5.4, 4.2],\n",
       "       [1. , 3.4, 5.1, 4.3],\n",
       "       [1. , 3.2, 4.8, 4.4],\n",
       "       [1. , 3. , 4.5, 4.5],\n",
       "       [1. , 2.8, 4.2, 4.6],\n",
       "       [1. , 2.6, 3.9, 4.7],\n",
       "       [1. , 2.4, 3.6, 4.8],\n",
       "       [1. , 2.2, 3.3, 4.9],\n",
       "       [1. , 2. , 3. , 5. ]])"
      ]
     },
     "execution_count": 24,
     "metadata": {},
     "output_type": "execute_result"
    }
   ],
   "source": [
    "def interpolacja(x1, x2):\n",
    "    lam = np.arange(0,1.1,0.1).reshape((-1,1))\n",
    "    return (lam * x1) + (1-lam)*x2\n",
    "\n",
    "interpolacja(np.array([1,2,3,5]),np.array([1,4,6,4]))"
   ]
  }
 ],
 "metadata": {
  "kernelspec": {
   "display_name": "Python 3",
   "language": "python",
   "name": "python3"
  },
  "language_info": {
   "codemirror_mode": {
    "name": "ipython",
    "version": 3
   },
   "file_extension": ".py",
   "mimetype": "text/x-python",
   "name": "python",
   "nbconvert_exporter": "python",
   "pygments_lexer": "ipython3",
   "version": "3.10.5"
  }
 },
 "nbformat": 4,
 "nbformat_minor": 1
}
